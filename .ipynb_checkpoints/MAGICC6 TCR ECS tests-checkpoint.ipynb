{
 "cells": [
  {
   "cell_type": "code",
   "execution_count": 1,
   "metadata": {},
   "outputs": [],
   "source": [
    "import pymagicc"
   ]
  },
  {
   "cell_type": "code",
   "execution_count": 2,
   "metadata": {},
   "outputs": [],
   "source": [
    "# NBVAL_IGNORE_OUTPUT\n",
    "from pymagicc.core import MAGICC6, MAGICC7"
   ]
  },
  {
   "cell_type": "code",
   "execution_count": 3,
   "metadata": {},
   "outputs": [
    {
     "name": "stdout",
     "output_type": "stream",
     "text": [
      "TCR is 1.8517K and ECS is 2.7502K\n"
     ]
    }
   ],
   "source": [
    "with MAGICC6() as magicc:\n",
    "    # you can tweak whatever parameters you want in \n",
    "    # MAGICC6/run/MAGCFG_DEFAULTALL.CFG, here's a few\n",
    "    # examples that might be of interest\n",
    "    results = magicc.diagnose_tcr_ecs(\n",
    "        CORE_CLIMATESENSITIVITY=2.75,\n",
    "        CORE_DELQ2XCO2=3.65,\n",
    "        CORE_HEATXCHANGE_LANDOCEAN=1.5,\n",
    "    )\n",
    "print(\"TCR is {tcr:.4f}K and ECS is {ecs:.4f}K\".format(**results))"
   ]
  },
  {
   "cell_type": "code",
   "execution_count": 6,
   "metadata": {},
   "outputs": [
    {
     "name": "stdout",
     "output_type": "stream",
     "text": [
      "Default TCR is 1.9734K and ECS is 2.9968K\n",
      "Low TCR is 1.1942K and ECS is 1.5056K\n",
      "Mid TCR is 1.7504K and ECS is 2.5129K\n",
      "High TCR is 2.5229K and ECS is 4.4384K\n"
     ]
    }
   ],
   "source": [
    "with MAGICC6() as magicc:\n",
    "    results_default = magicc.diagnose_tcr_ecs()\n",
    "    magicc.update_config(CORE_CLIMATESENSITIVITY=1.5)\n",
    "    results_low_ecs = magicc.diagnose_tcr_ecs()\n",
    "    magicc.update_config(CORE_CLIMATESENSITIVITY=2.6)\n",
    "#     magicc.update_config(CORE_CLIMATESENSITIVITY=2.51)\n",
    "    results_mid_ecs = magicc.diagnose_tcr_ecs()\n",
    "    magicc.update_config(CORE_CLIMATESENSITIVITY=4.5)\n",
    "    results_high_ecs = magicc.diagnose_tcr_ecs()\n",
    "\n",
    "print(\"Default TCR is {tcr:.4f}K and ECS is {ecs:.4f}K\".format(**results_default))\n",
    "print(\"Low TCR is {tcr:.4f}K and ECS is {ecs:.4f}K\".format(**results_low_ecs))\n",
    "print(\"Mid TCR is {tcr:.4f}K and ECS is {ecs:.4f}K\".format(**results_mid_ecs))\n",
    "print(\"High TCR is {tcr:.4f}K and ECS is {ecs:.4f}K\".format(**results_high_ecs))"
   ]
  },
  {
   "cell_type": "markdown",
   "metadata": {},
   "source": [
    "# Results\n",
    "\n",
    "MAGICC6 default parameters give __ECS = 3.00 K__ and __TCR = 1.97 K__. This is higher than the default parameter values in FaIR. \n",
    "\n",
    " - For set CORE_CLIMATESENSITIVITY = 1.5 k we get: Low TCR is 1.1942K and ECS is 1.5056K\n",
    "\n",
    " - For set CORE_CLIMATESENSITIVITY = 2.6 k we get: Mid TCR is 1.7932K and ECS is 2.6021K\n",
    "\n",
    " - For set CORE_CLIMATESENSITIVITY = 4.57 k we get: High TCR is 2.5447K and ECS is 4.5036K\n",
    " \n",
    "I believe this is part of the reason for the biased high response of MAGICC6 when compared to FaIR. All the TCR responses are slightly higher for the MAGICC runs, when only the core climate sensitivity parameter is set. Note: for the highest CORE_CLIMATESENSITIVITY setting, in order to get an ECS response which is roughly 4.5 K the CORE_CLIMATESENSITIVITY = 4.57 K, resulting in a TCR = 2.54 K.\n",
    "\n",
    "Instead setting core climate sensitivity parameter to get TCR correct (more important for temperature response to emissions over 21st century) yields:\n",
    "\n",
    " - For set CORE_CLIMATESENSITIVITY = 1.22 k we get: Low TCR is 1.0109K and ECS is 1.2251K\n",
    "\n",
    " - For set CORE_CLIMATESENSITIVITY = 2.51 k we get: Mid TCR is 1.7504K and ECS is 2.5129K\n",
    "\n",
    " - For set CORE_CLIMATESENSITIVITY = 4.48 k we get: High TCR is 2.516K and ECS is 4.4197K"
   ]
  },
  {
   "cell_type": "code",
   "execution_count": null,
   "metadata": {},
   "outputs": [],
   "source": []
  }
 ],
 "metadata": {
  "kernelspec": {
   "display_name": "Python 3",
   "language": "python",
   "name": "python3"
  },
  "language_info": {
   "codemirror_mode": {
    "name": "ipython",
    "version": 3
   },
   "file_extension": ".py",
   "mimetype": "text/x-python",
   "name": "python",
   "nbconvert_exporter": "python",
   "pygments_lexer": "ipython3",
   "version": "3.7.1"
  }
 },
 "nbformat": 4,
 "nbformat_minor": 2
}
