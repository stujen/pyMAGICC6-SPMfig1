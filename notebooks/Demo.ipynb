{
 "cells": [
  {
   "cell_type": "markdown",
   "metadata": {},
   "source": [
    "###### Pymagicc Demo\n",
    "\n",
    "This small demo of Pymagicc (see https://github.com/openclimatedata/pymagicc)\n",
    "is built using a [Jupyter Notebook](http://jupyter.org/) and [Appmode](https://github.com/oschuett/appmode). Thanks to the [Binder](https://mybinder.org/) project it can be found online at:\n",
    "\n",
    "https://mybinder.org/v2/gh/openclimatedata/pymagicc/master?urlpath=apps%2Fnotebooks%2FDemo.ipynb\n",
    "\n",
    "It shows output from Pymagicc for the four [Representative Concentration Pathways (RCPs)](http://tntcat.iiasa.ac.at:8787/RcpDb/dsd?Action=htmlpage&page=welcome). One of the many model parameters, the climate sensitivity, can be adjusted. To see how the demo is made or change it, click on \"Edit App\" above."
   ]
  },
  {
   "cell_type": "code",
   "execution_count": 1,
   "metadata": {},
   "outputs": [],
   "source": [
    "%matplotlib inline\n",
    "import matplotlib.pyplot as plt\n",
    "import pymagicc\n",
    "\n",
    "from ipywidgets import widgets\n",
    "from IPython.display import Javascript\n",
    "\n",
    "from functools import lru_cache\n",
    "\n",
    "plt.style.use(\"ggplot\")"
   ]
  },
  {
   "cell_type": "code",
   "execution_count": 2,
   "metadata": {},
   "outputs": [],
   "source": [
    "@lru_cache(maxsize=32)\n",
    "def run_pymagicc(scenario, core_climatesensitivity=3):\n",
    "    return pymagicc.run(pymagicc.scenarios[scenario], core_climatesensitivity=core_climatesensitivity)"
   ]
  },
  {
   "cell_type": "code",
   "execution_count": 3,
   "metadata": {
    "scrolled": false
   },
   "outputs": [
    {
     "ename": "RecursionError",
     "evalue": "maximum recursion depth exceeded while calling a Python object",
     "output_type": "error",
     "traceback": [
      "\u001b[0;31m---------------------------------------------------------------------------\u001b[0m",
      "\u001b[0;31mRecursionError\u001b[0m                            Traceback (most recent call last)",
      "\u001b[0;32m<ipython-input-3-2827bebfd849>\u001b[0m in \u001b[0;36m<module>\u001b[0;34m()\u001b[0m\n\u001b[1;32m     12\u001b[0m \u001b[0mwidget_status\u001b[0m \u001b[0;34m=\u001b[0m \u001b[0mwidgets\u001b[0m\u001b[0;34m.\u001b[0m\u001b[0mHTML\u001b[0m\u001b[0;34m(\u001b[0m\u001b[0;34m)\u001b[0m\u001b[0;34m\u001b[0m\u001b[0m\n\u001b[1;32m     13\u001b[0m \u001b[0;34m\u001b[0m\u001b[0m\n\u001b[0;32m---> 14\u001b[0;31m \u001b[0mgases\u001b[0m \u001b[0;34m=\u001b[0m \u001b[0mpymagicc\u001b[0m\u001b[0;34m.\u001b[0m\u001b[0mrcp26\u001b[0m\u001b[0;34m[\u001b[0m\u001b[0;34m\"WORLD\"\u001b[0m\u001b[0;34m]\u001b[0m\u001b[0;34m.\u001b[0m\u001b[0mcolumns\u001b[0m\u001b[0;34m.\u001b[0m\u001b[0mvalues\u001b[0m\u001b[0;34m\u001b[0m\u001b[0m\n\u001b[0m\u001b[1;32m     15\u001b[0m \u001b[0;34m\u001b[0m\u001b[0m\n\u001b[1;32m     16\u001b[0m widget_gas_1 = widgets.Dropdown(\n",
      "\u001b[0;32m~/Documents/AGCEC/MCastle/pymagicc/pymagicc/io.py\u001b[0m in \u001b[0;36m__getitem__\u001b[0;34m(self, item)\u001b[0m\n\u001b[1;32m   1644\u001b[0m         \u001b[0;32mif\u001b[0m \u001b[0;32mnot\u001b[0m \u001b[0mself\u001b[0m\u001b[0;34m.\u001b[0m\u001b[0mis_loaded\u001b[0m\u001b[0;34m:\u001b[0m\u001b[0;34m\u001b[0m\u001b[0m\n\u001b[1;32m   1645\u001b[0m             \u001b[0mself\u001b[0m\u001b[0;34m.\u001b[0m\u001b[0m_raise_not_loaded_error\u001b[0m\u001b[0;34m(\u001b[0m\u001b[0;34m)\u001b[0m\u001b[0;34m\u001b[0m\u001b[0m\n\u001b[0;32m-> 1646\u001b[0;31m         \u001b[0;32mreturn\u001b[0m \u001b[0mself\u001b[0m\u001b[0;34m[\u001b[0m\u001b[0mitem\u001b[0m\u001b[0;34m]\u001b[0m\u001b[0;34m\u001b[0m\u001b[0m\n\u001b[0m\u001b[1;32m   1647\u001b[0m \u001b[0;34m\u001b[0m\u001b[0m\n\u001b[1;32m   1648\u001b[0m     \u001b[0;32mdef\u001b[0m \u001b[0m__getattr__\u001b[0m\u001b[0;34m(\u001b[0m\u001b[0mself\u001b[0m\u001b[0;34m,\u001b[0m \u001b[0mitem\u001b[0m\u001b[0;34m)\u001b[0m\u001b[0;34m:\u001b[0m\u001b[0;34m\u001b[0m\u001b[0m\n",
      "... last 1 frames repeated, from the frame below ...\n",
      "\u001b[0;32m~/Documents/AGCEC/MCastle/pymagicc/pymagicc/io.py\u001b[0m in \u001b[0;36m__getitem__\u001b[0;34m(self, item)\u001b[0m\n\u001b[1;32m   1644\u001b[0m         \u001b[0;32mif\u001b[0m \u001b[0;32mnot\u001b[0m \u001b[0mself\u001b[0m\u001b[0;34m.\u001b[0m\u001b[0mis_loaded\u001b[0m\u001b[0;34m:\u001b[0m\u001b[0;34m\u001b[0m\u001b[0m\n\u001b[1;32m   1645\u001b[0m             \u001b[0mself\u001b[0m\u001b[0;34m.\u001b[0m\u001b[0m_raise_not_loaded_error\u001b[0m\u001b[0;34m(\u001b[0m\u001b[0;34m)\u001b[0m\u001b[0;34m\u001b[0m\u001b[0m\n\u001b[0;32m-> 1646\u001b[0;31m         \u001b[0;32mreturn\u001b[0m \u001b[0mself\u001b[0m\u001b[0;34m[\u001b[0m\u001b[0mitem\u001b[0m\u001b[0;34m]\u001b[0m\u001b[0;34m\u001b[0m\u001b[0m\n\u001b[0m\u001b[1;32m   1647\u001b[0m \u001b[0;34m\u001b[0m\u001b[0m\n\u001b[1;32m   1648\u001b[0m     \u001b[0;32mdef\u001b[0m \u001b[0m__getattr__\u001b[0m\u001b[0;34m(\u001b[0m\u001b[0mself\u001b[0m\u001b[0;34m,\u001b[0m \u001b[0mitem\u001b[0m\u001b[0;34m)\u001b[0m\u001b[0;34m:\u001b[0m\u001b[0;34m\u001b[0m\u001b[0m\n",
      "\u001b[0;31mRecursionError\u001b[0m: maximum recursion depth exceeded while calling a Python object"
     ]
    }
   ],
   "source": [
    "# NBVAL_IGNORE_OUTPUT\n",
    "# Reference period\n",
    "start = 1850\n",
    "end = 1900\n",
    "\n",
    "widget_scenario = widgets.Dropdown(\n",
    "    title=\"Emissions Scenario\", \n",
    "    value=\"RCP26\",\n",
    "    options=[\"RCP26\", \"RCP45\", \"RCP60\", \"RCP85\"]\n",
    ")\n",
    "\n",
    "widget_status = widgets.HTML()\n",
    "\n",
    "gases = pymagicc.rcp26[\"WORLD\"].columns.values\n",
    "\n",
    "widget_gas_1 = widgets.Dropdown(\n",
    "    title=\"Emissions from\", \n",
    "    value=\"FossilCO2\",\n",
    "    options=gases\n",
    ")\n",
    "widget_gas_2 = widgets.Dropdown(\n",
    "    title=\"Emissions from\", \n",
    "    value=\"OtherCO2\",\n",
    "    options=gases\n",
    ")\n",
    "widget_gas_3 = widgets.Dropdown(\n",
    "    title=\"Emissions from\", \n",
    "    value=\"CH4\",\n",
    "    options=gases\n",
    ")\n",
    "widget_gas_4 = widgets.Dropdown(\n",
    "    title=\"Emissions from\", \n",
    "    value=\"N2O\",\n",
    "    options=gases\n",
    ")\n",
    "\n",
    "style = {'description_width': 'initial'}\n",
    "widget_core_climatesensitivity = widgets.FloatSlider(\n",
    "    value=3, min=1.5, max=4.5, step=0.1, continuous_update=False,\n",
    "    description=\"Climate Sensitivity\",\n",
    "    style=style\n",
    ")\n",
    "\n",
    "scen = pymagicc.scenarios[\"RCP26\"]\n",
    "data = scen[\"WORLD\"][\"FossilCO2\"].loc[:2100]\n",
    "\n",
    "widget_output = widgets.Output()\n",
    "\n",
    "ui = widgets.VBox([\n",
    "    widgets.HBox([widget_scenario,  widget_status]),\n",
    "    widgets.HBox([widget_gas_1, widget_gas_2, widget_gas_3, widget_gas_4]),\n",
    "    widget_core_climatesensitivity,\n",
    "    widget_output])\n",
    "\n",
    "def update(scenario, gas_1, gas_2, gas_3, gas_4, core_climatesensitivity):\n",
    "    widget_status.value = \"<em>Processing</em> …\"\n",
    "    scen = pymagicc.scenarios[scenario]\n",
    "    data = scen[\"WORLD\"].loc[:2100]\n",
    "    data.index.name = \"\"\n",
    "    results = run_pymagicc(scenario, core_climatesensitivity=core_climatesensitivity)\n",
    "    \n",
    "    fig, axes = plt.subplots(2, 4, figsize=(16,10))\n",
    "    data[gas_1].plot(ax=axes[0, 0])\n",
    "    axes[0, 0].set_title(gas_1 + \" [\" + pymagicc.units[gas_1] + \"]\")\n",
    "    data[gas_2].plot(ax=axes[0, 1])\n",
    "    axes[0, 1].set_title(gas_2  + \" [\" + pymagicc.units[gas_2] + \"]\")\n",
    "    data[gas_3].plot(ax=axes[0, 2])\n",
    "    axes[0, 2].set_title(gas_3 + \" [\" + pymagicc.units[gas_3] + \"]\")\n",
    "    data[gas_4].plot(ax=axes[0, 3])\n",
    "    axes[0, 3].set_title(gas_4 + \" [\" + pymagicc.units[gas_4] + \"]\")\n",
    "    \n",
    "    for key in results.keys():\n",
    "        results[key].index.name = \"\"\n",
    "    temp = results[\"SURFACE_TEMP\"].GLOBAL\n",
    "    temp = temp - temp.loc[start:end].mean()\n",
    "    temp.plot(ax=axes[1, 0])\n",
    "    axes[1, 0].set_title(\"Surface Temperature [°C]\")\n",
    "    \n",
    "    results[\"CO2_CONC\"].GLOBAL.plot(ax=axes[1, 1])\n",
    "    axes[1, 1].set_title(\"CO$_2$ Concentration [ppm]\")\n",
    "    \n",
    "    results[\"GHG_RF\"].GLOBAL.plot(ax=axes[1, 2])\n",
    "    axes[1, 2].set_title(\"Radiative Forcing [W/m$^2$]\")\n",
    "    \n",
    "    axes[1, 3].remove()\n",
    "    widget_status.value = \"\"\n",
    "\n",
    "out = widgets.interactive_output(\n",
    "    update, \n",
    "    {\n",
    "        \"scenario\": widget_scenario, \n",
    "        \"gas_1\": widget_gas_1,\n",
    "        \"gas_2\": widget_gas_2,\n",
    "        \"gas_3\": widget_gas_3,\n",
    "        \"gas_4\": widget_gas_4,\n",
    "        \"core_climatesensitivity\": widget_core_climatesensitivity\n",
    "    }\n",
    ")\n",
    "    \n",
    "display(ui, out)"
   ]
  },
  {
   "cell_type": "markdown",
   "metadata": {},
   "source": [
    "Surface temperature is relative to the pre-industrial 1850-1900 period."
   ]
  }
 ],
 "metadata": {
  "kernelspec": {
   "display_name": "Python 3",
   "language": "python",
   "name": "python3"
  },
  "language_info": {
   "codemirror_mode": {
    "name": "ipython",
    "version": 3
   },
   "file_extension": ".py",
   "mimetype": "text/x-python",
   "name": "python",
   "nbconvert_exporter": "python",
   "pygments_lexer": "ipython3",
   "version": "3.6.5"
  }
 },
 "nbformat": 4,
 "nbformat_minor": 2
}
