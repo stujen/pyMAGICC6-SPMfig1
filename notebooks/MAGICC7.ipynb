{
 "cells": [
  {
   "cell_type": "markdown",
   "metadata": {},
   "source": [
    "# MAGICC7\n",
    "\n",
    "Pymagicc is also MAGICC7 compatible. \n",
    "\n",
    "As yet, the binary is not yet publicly available to it's a bit fiddlier to get setup. Here we give a minimal working example of how to use MAGICC7 with Pymagicc."
   ]
  },
  {
   "cell_type": "code",
   "execution_count": null,
   "metadata": {},
   "outputs": [],
   "source": [
    "# NBVAL_IGNORE_OUTPUT\n",
    "%matplotlib inline\n",
    "from matplotlib import pyplot as plt\n",
    "plt.style.use('ggplot')\n",
    "plt.rcParams['figure.figsize'] = 16, 9\n",
    "\n",
    "import pandas as pd\n",
    "import pymagicc\n",
    "from pymagicc.api import MAGICC6, MAGICC7\n",
    "\n",
    "from pymagicc import rcp26, rcp45, rcp60, rcp85, scenarios"
   ]
  },
  {
   "cell_type": "code",
   "execution_count": null,
   "metadata": {},
   "outputs": [],
   "source": [
    "# set your environment to find your MAGICC binary\n",
    "%env MAGICC_EXECUTABLE_7=../../magicc/run/magicc"
   ]
  },
  {
   "cell_type": "markdown",
   "metadata": {},
   "source": [
    "## The slow, easy way\n",
    "\n",
    "Use the `pymagicc.run` API. This is super slow as it makes a new copy of the entire `magicc/run` directory for each run."
   ]
  },
  {
   "cell_type": "code",
   "execution_count": null,
   "metadata": {},
   "outputs": [],
   "source": [
    "for name, scen in scenarios.items():\n",
    "    # common gotchas:\n",
    "    # - not getting right output\n",
    "    # - CFG file set up to use too many CFG flags\n",
    "    # - Emission scenario flags set up to use too many scenario inputs\n",
    "    results = pymagicc.run(scen, magicc_version=7, out_temperature=1)\n",
    "    results_df = results.df\n",
    "    results_df.set_index(\"time\", inplace=True)    \n",
    "\n",
    "    global_temp_time_rows = (\n",
    "        (results_df.variable == \"Surface Temperature\")\n",
    "        & (results_df.region == \"World\")\n",
    "    )\n",
    "    \n",
    "    temp = (\n",
    "        results_df.value[global_temp_time_rows].loc[1850:]\n",
    "        - results_df.value[global_temp_time_rows].loc[1850:1900].mean()\n",
    "    )\n",
    "    temp.plot(label=name)\n",
    "    \n",
    "plt.legend()\n",
    "plt.title(\"Global Mean Temperature Projection\")\n",
    "plt.ylabel(\"°C over pre-industrial (1850-1900 mean)\");"
   ]
  },
  {
   "cell_type": "markdown",
   "metadata": {},
   "source": [
    "## The faster, mildly more difficult way\n",
    "\n",
    "Use the context manager for the MAGICC version we want. This still creates a copy of the entire run folder, but only once."
   ]
  },
  {
   "cell_type": "code",
   "execution_count": null,
   "metadata": {},
   "outputs": [],
   "source": [
    "with MAGICC7() as magicc:\n",
    "    for name, scen in scenarios.items():\n",
    "        # note that we obviously don't need magicc_version as an argument \n",
    "        # here\n",
    "        results = magicc.run(scen, out_temperature=1)\n",
    "        results_df = results.df\n",
    "        results_df.set_index(\"time\", inplace=True)    \n",
    "\n",
    "        global_temp_time_rows = (\n",
    "            (results_df.variable == \"Surface Temperature\")\n",
    "            & (results_df.region == \"World\")\n",
    "        )\n",
    "\n",
    "        temp = (\n",
    "            results_df.value[global_temp_time_rows].loc[1850:]\n",
    "            - results_df.value[global_temp_time_rows].loc[1850:1900].mean()\n",
    "        )\n",
    "        temp.plot(label=name)\n",
    "\n",
    "plt.legend()\n",
    "plt.title(\"Global Mean Temperature Projection\")\n",
    "plt.ylabel(\"°C over pre-industrial (1850-1900 mean)\");"
   ]
  },
  {
   "cell_type": "markdown",
   "metadata": {},
   "source": [
    "## The even faster, more dangerous and difficult to debug way\n",
    "\n",
    "Use the context manager for the MAGICC version we want and specify the root directory. This doesn't create a copy of the entire run folder, but will modify files in place and blow up if any of your settings are not correct.\n",
    "\n",
    "Common gotchas:\n",
    "\n",
    "- not clearing `out` directory before running so things are super slow\n",
    "- pre-existing `MAGTUNE_PYMAGICC.CFG` file with config you don't want to use, or which you want to overwrite (we currently don't do any overwriting with Pymagicc)"
   ]
  },
  {
   "cell_type": "code",
   "execution_count": null,
   "metadata": {},
   "outputs": [],
   "source": [
    "with MAGICC7(root_dir=\"../../magicc\") as magicc:\n",
    "    # binary readers aren't yet ready and we can't do this through\n",
    "    # the run method just yet\n",
    "    magicc.set_output_variables(\n",
    "        write_ascii=True, write_binary=False, \n",
    "        temperature=True, emissions=True,\n",
    "        parameters=True\n",
    "    )  \n",
    "    for name, scen in scenarios.items():\n",
    "        results = magicc.run(scen)\n",
    "        results.df = results.df.copy()\n",
    "        results.df.set_index(\"time\", inplace=True)    \n",
    "\n",
    "        global_temp_time_rows = (\n",
    "            (results.df.variable == \"Surface Temperature\")\n",
    "            & (results.df.region == \"World\")\n",
    "        )\n",
    "\n",
    "        temp = (\n",
    "            results.df.value[global_temp_time_rows].loc[1850:]\n",
    "            - results.df.value[global_temp_time_rows].loc[1850:1900].mean()\n",
    "        )\n",
    "        temp.plot(label=name)\n",
    "\n",
    "plt.legend()\n",
    "plt.title(\"Global Mean Temperature Projection\")\n",
    "plt.ylabel(\"°C over pre-industrial (1850-1900 mean)\");"
   ]
  },
  {
   "cell_type": "markdown",
   "metadata": {},
   "source": [
    "## Comparing MAGICC6 and MAGICC7\n",
    "\n",
    "Finally, we show how to easily compare MAGICC6 and MAGICC7."
   ]
  },
  {
   "cell_type": "code",
   "execution_count": null,
   "metadata": {},
   "outputs": [],
   "source": [
    "magicc7_results = []\n",
    "with MAGICC7(root_dir=\"../../magicc\") as magicc:\n",
    "    # binary readers aren't yet ready and we can't do this through\n",
    "    # the run method just yet\n",
    "    magicc.set_output_variables(\n",
    "        write_ascii=True, write_binary=False, \n",
    "        temperature=True, emissions=True,\n",
    "        parameters=True\n",
    "    )  \n",
    "    for name, scen in scenarios.items():\n",
    "        results = magicc.run(scen)\n",
    "        results.df[\"Climate Model\"] = \"MAGICC7\"\n",
    "        results.df[\"Scenario\"] = name\n",
    "        magicc7_results.append(results.df)\n",
    "        \n",
    "magicc7_results = pd.concat(magicc7_results)"
   ]
  },
  {
   "cell_type": "code",
   "execution_count": null,
   "metadata": {},
   "outputs": [],
   "source": [
    "magicc6_results = []\n",
    "with MAGICC6() as magicc:\n",
    "    #########################################################\n",
    "    # this doesn't work with MAGICC6 as the flag set is wrong\n",
    "#     magicc.set_output_variables(\n",
    "#         write_ascii=True, write_binary=False, \n",
    "#         temperature=True, emissions=True,\n",
    "#         parameters=True\n",
    "#     )  \n",
    "    #########################################################\n",
    "    for name, scen in scenarios.items():\n",
    "        results = magicc.run(scen, endyear=2500)\n",
    "        results.df[\"Climate Model\"] = \"MAGICC6\"\n",
    "        results.df[\"Scenario\"] = name\n",
    "        magicc6_results.append(results.df)\n",
    "\n",
    "magicc6_results = pd.concat(magicc6_results)"
   ]
  },
  {
   "cell_type": "code",
   "execution_count": null,
   "metadata": {},
   "outputs": [],
   "source": [
    "results = pd.concat([magicc6_results, magicc7_results])"
   ]
  },
  {
   "cell_type": "code",
   "execution_count": null,
   "metadata": {},
   "outputs": [],
   "source": [
    "results.head()"
   ]
  },
  {
   "cell_type": "code",
   "execution_count": null,
   "metadata": {},
   "outputs": [],
   "source": [
    "plt.figure(figsize=(16, 9))\n",
    "for label, df in results.groupby([\"Climate Model\", \"Scenario\"]):\n",
    "    df.set_index(\"time\", inplace=True)    \n",
    "\n",
    "    global_temp_time_rows = (\n",
    "        (df.variable == \"Surface Temperature\")\n",
    "        & (df.region == \"World\")\n",
    "    )\n",
    "\n",
    "    temp = (\n",
    "        df.value[global_temp_time_rows].loc[1850:]\n",
    "        - df.value[global_temp_time_rows].loc[1850:1900].mean()\n",
    "    )\n",
    "    temp.plot(label=label)\n",
    "\n",
    "plt.legend()\n",
    "plt.title(\"Global Mean Temperature Projection\")\n",
    "plt.ylabel(\"°C over pre-industrial (1850-1900 mean)\");"
   ]
  }
 ],
 "metadata": {
  "kernelspec": {
   "display_name": "Python 3",
   "language": "python",
   "name": "python3"
  },
  "language_info": {
   "codemirror_mode": {
    "name": "ipython",
    "version": 3
   },
   "file_extension": ".py",
   "mimetype": "text/x-python",
   "name": "python",
   "nbconvert_exporter": "python",
   "pygments_lexer": "ipython3",
   "version": "3.6.5"
  }
 },
 "nbformat": 4,
 "nbformat_minor": 2
}
